{
    "cells": [
        {
            "attachments": {},
            "cell_type": "markdown",
            "metadata": {},
            "source": [
                "# Example usage\n",
                "\n",
                "To use `fundaml` in a project:"
            ]
        },
        {
            "cell_type": "code",
            "execution_count": 4,
            "metadata": {},
            "outputs": [
                {
                    "name": "stdout",
                    "output_type": "stream",
                    "text": [
                        "Collecting fundaml\n",
                        "  Downloading fundaml-0.1.27-py3-none-any.whl (7.2 kB)\n",
                        "Requirement already satisfied: numpy>=1.24.0 in /Users/tzoght/opt/miniconda3/envs/fundaml/lib/python3.10/site-packages (from fundaml) (1.25.0)\n",
                        "Collecting pandas>=1.4.0 (from fundaml)\n",
                        "  Downloading pandas-2.0.3-cp310-cp310-macosx_11_0_arm64.whl (10.8 MB)\n",
                        "\u001b[2K     \u001b[38;2;114;156;31m━━━━━━━━━━━━━━━━━━━━━━━━━━━━━━━━━━━━━━━━\u001b[0m \u001b[32m10.8/10.8 MB\u001b[0m \u001b[31m13.1 MB/s\u001b[0m eta \u001b[36m0:00:00\u001b[0mm eta \u001b[36m0:00:01\u001b[0m[36m0:00:01\u001b[0m\n",
                        "\u001b[?25hCollecting torch<3.0.0,>=2.0.1 (from fundaml)\n",
                        "  Downloading torch-2.0.1-cp310-none-macosx_11_0_arm64.whl (55.8 MB)\n",
                        "\u001b[2K     \u001b[38;2;114;156;31m━━━━━━━━━━━━━━━━━━━━━━━━━━━━━━━━━━━━━━━━\u001b[0m \u001b[32m55.8/55.8 MB\u001b[0m \u001b[31m9.2 MB/s\u001b[0m eta \u001b[36m0:00:00\u001b[0mm eta \u001b[36m0:00:01\u001b[0m0:01\u001b[0m:01\u001b[0mm\n",
                        "\u001b[?25hCollecting torchaudio<3.0.0,>=2.0.2 (from fundaml)\n",
                        "  Downloading torchaudio-2.0.2-cp310-cp310-macosx_11_0_arm64.whl (3.6 MB)\n",
                        "\u001b[2K     \u001b[38;2;114;156;31m━━━━━━━━━━━━━━━━━━━━━━━━━━━━━━━━━━━━━━━━\u001b[0m \u001b[32m3.6/3.6 MB\u001b[0m \u001b[31m14.3 MB/s\u001b[0m eta \u001b[36m0:00:00\u001b[0m MB/s\u001b[0m eta \u001b[36m0:00:01\u001b[0m:01\u001b[0m\n",
                        "\u001b[?25hCollecting torchvision<0.16.0,>=0.15.2 (from fundaml)\n",
                        "  Downloading torchvision-0.15.2-cp310-cp310-macosx_11_0_arm64.whl (1.4 MB)\n",
                        "\u001b[2K     \u001b[38;2;114;156;31m━━━━━━━━━━━━━━━━━━━━━━━━━━━━━━━━━━━━━━━━\u001b[0m \u001b[32m1.4/1.4 MB\u001b[0m \u001b[31m14.6 MB/s\u001b[0m eta \u001b[36m0:00:00\u001b[0m31m35.0 MB/s\u001b[0m eta \u001b[36m0:00:01\u001b[0m\n",
                        "\u001b[?25hRequirement already satisfied: python-dateutil>=2.8.2 in /Users/tzoght/opt/miniconda3/envs/fundaml/lib/python3.10/site-packages (from pandas>=1.4.0->fundaml) (2.8.2)\n",
                        "Collecting pytz>=2020.1 (from pandas>=1.4.0->fundaml)\n",
                        "  Using cached pytz-2023.3-py2.py3-none-any.whl (502 kB)\n",
                        "Collecting tzdata>=2022.1 (from pandas>=1.4.0->fundaml)\n",
                        "  Using cached tzdata-2023.3-py2.py3-none-any.whl (341 kB)\n",
                        "Requirement already satisfied: filelock in /Users/tzoght/opt/miniconda3/envs/fundaml/lib/python3.10/site-packages (from torch<3.0.0,>=2.0.1->fundaml) (3.12.2)\n",
                        "Requirement already satisfied: typing-extensions in /Users/tzoght/opt/miniconda3/envs/fundaml/lib/python3.10/site-packages (from torch<3.0.0,>=2.0.1->fundaml) (4.7.1)\n",
                        "Requirement already satisfied: sympy in /Users/tzoght/opt/miniconda3/envs/fundaml/lib/python3.10/site-packages (from torch<3.0.0,>=2.0.1->fundaml) (1.12)\n",
                        "Requirement already satisfied: networkx in /Users/tzoght/opt/miniconda3/envs/fundaml/lib/python3.10/site-packages (from torch<3.0.0,>=2.0.1->fundaml) (3.1)\n",
                        "Requirement already satisfied: jinja2 in /Users/tzoght/opt/miniconda3/envs/fundaml/lib/python3.10/site-packages (from torch<3.0.0,>=2.0.1->fundaml) (3.1.2)\n",
                        "Requirement already satisfied: requests in /Users/tzoght/opt/miniconda3/envs/fundaml/lib/python3.10/site-packages (from torchvision<0.16.0,>=0.15.2->fundaml) (2.31.0)\n",
                        "Requirement already satisfied: pillow!=8.3.*,>=5.3.0 in /Users/tzoght/opt/miniconda3/envs/fundaml/lib/python3.10/site-packages (from torchvision<0.16.0,>=0.15.2->fundaml) (10.0.0)\n",
                        "Requirement already satisfied: six>=1.5 in /Users/tzoght/opt/miniconda3/envs/fundaml/lib/python3.10/site-packages (from python-dateutil>=2.8.2->pandas>=1.4.0->fundaml) (1.16.0)\n",
                        "Requirement already satisfied: MarkupSafe>=2.0 in /Users/tzoght/opt/miniconda3/envs/fundaml/lib/python3.10/site-packages (from jinja2->torch<3.0.0,>=2.0.1->fundaml) (2.1.3)\n",
                        "Requirement already satisfied: charset-normalizer<4,>=2 in /Users/tzoght/opt/miniconda3/envs/fundaml/lib/python3.10/site-packages (from requests->torchvision<0.16.0,>=0.15.2->fundaml) (3.1.0)\n",
                        "Requirement already satisfied: idna<4,>=2.5 in /Users/tzoght/opt/miniconda3/envs/fundaml/lib/python3.10/site-packages (from requests->torchvision<0.16.0,>=0.15.2->fundaml) (3.4)\n",
                        "Requirement already satisfied: urllib3<3,>=1.21.1 in /Users/tzoght/opt/miniconda3/envs/fundaml/lib/python3.10/site-packages (from requests->torchvision<0.16.0,>=0.15.2->fundaml) (1.26.16)\n",
                        "Requirement already satisfied: certifi>=2017.4.17 in /Users/tzoght/opt/miniconda3/envs/fundaml/lib/python3.10/site-packages (from requests->torchvision<0.16.0,>=0.15.2->fundaml) (2023.5.7)\n",
                        "Requirement already satisfied: mpmath>=0.19 in /Users/tzoght/opt/miniconda3/envs/fundaml/lib/python3.10/site-packages (from sympy->torch<3.0.0,>=2.0.1->fundaml) (1.3.0)\n",
                        "Installing collected packages: pytz, tzdata, torch, pandas, torchvision, torchaudio, fundaml\n",
                        "  Attempting uninstall: torch\n",
                        "    Found existing installation: torch 2.0.0\n",
                        "    Uninstalling torch-2.0.0:\n",
                        "      Successfully uninstalled torch-2.0.0\n",
                        "  Attempting uninstall: torchvision\n",
                        "    Found existing installation: torchvision 0.15.2a0\n",
                        "    Uninstalling torchvision-0.15.2a0:\n",
                        "      Successfully uninstalled torchvision-0.15.2a0\n",
                        "  Attempting uninstall: torchaudio\n",
                        "    Found existing installation: torchaudio 2.0.0\n",
                        "    Uninstalling torchaudio-2.0.0:\n",
                        "      Successfully uninstalled torchaudio-2.0.0\n",
                        "Successfully installed fundaml-0.1.27 pandas-2.0.3 pytz-2023.3 torch-2.0.1 torchaudio-2.0.2 torchvision-0.15.2 tzdata-2023.3\n",
                        "0.1.27\n"
                    ]
                }
            ],
            "source": [
                "!pip install fundaml\n",
                "import fundaml\n",
                "print(fundaml.__version__)"
            ]
        },
        {
            "attachments": {},
            "cell_type": "markdown",
            "metadata": {},
            "source": [
                "## eda submodule"
            ]
        },
        {
            "cell_type": "code",
            "execution_count": 5,
            "metadata": {},
            "outputs": [
                {
                    "name": "stdout",
                    "output_type": "stream",
                    "text": [
                        "----------------------------------------\n",
                        " Shape: (3, 2)\n",
                        "----------------------------------------\n",
                        "\n",
                        "<class 'pandas.core.frame.DataFrame'>\n",
                        "RangeIndex: 3 entries, 0 to 2\n",
                        "Data columns (total 2 columns):\n",
                        " #   Column  Non-Null Count  Dtype\n",
                        "---  ------  --------------  -----\n",
                        " 0   a       3 non-null      int64\n",
                        " 1   b       3 non-null      int64\n",
                        "dtypes: int64(2)\n",
                        "memory usage: 176.0 bytes\n",
                        "----------------------------------------\n",
                        " Null:\n",
                        " a    0\n",
                        "b    0\n",
                        "dtype: int64\n",
                        "----------------------------------------\n",
                        " Describe:\n",
                        "          a    b\n",
                        "count  3.0  3.0\n",
                        "mean   2.0  5.0\n",
                        "std    1.0  1.0\n",
                        "min    1.0  4.0\n",
                        "25%    1.5  4.5\n",
                        "50%    2.0  5.0\n",
                        "75%    2.5  5.5\n",
                        "max    3.0  6.0\n",
                        "----------------------------------------\n",
                        " NA:\n",
                        " a    0\n",
                        "b    0\n",
                        "dtype: int64\n",
                        "----------------------------------------\n",
                        " Duplicate:\n",
                        " 0\n",
                        "----------------------------------------\n",
                        " Duplicated:\n",
                        " 0    False\n",
                        "1    False\n",
                        "2    False\n",
                        "dtype: bool\n"
                    ]
                }
            ],
            "source": [
                "from fundaml.eda import print_basic_eda\n",
                "import pandas as pd\n",
                "\n",
                "df = pd.DataFrame({\"a\": [1, 2, 3], \"b\": [4, 5, 6]})\n",
                "print_basic_eda(df)"
            ]
        }
    ],
    "metadata": {
        "kernelspec": {
            "display_name": "mltz_base",
            "language": "python",
            "name": "python3"
        },
        "language_info": {
            "codemirror_mode": {
                "name": "ipython",
                "version": 3
            },
            "file_extension": ".py",
            "mimetype": "text/x-python",
            "name": "python",
            "nbconvert_exporter": "python",
            "pygments_lexer": "ipython3",
            "version": "3.10.12"
        },
        "vscode": {
            "interpreter": {
                "hash": "7cfa4bdf23d59d966cb348cbf6b359c162aa4b758a5fdbf685462279e0c1f14f"
            }
        }
    },
    "nbformat": 4,
    "nbformat_minor": 4
}
