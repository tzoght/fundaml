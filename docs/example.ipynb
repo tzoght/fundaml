{
    "cells": [
        {
            "attachments": {},
            "cell_type": "markdown",
            "metadata": {},
            "source": [
                "# Example usage\n",
                "\n",
                "To use `fundaml` in a project:"
            ]
        },
        {
            "cell_type": "code",
            "execution_count": 1,
            "metadata": {},
            "outputs": [
                {
                    "name": "stdout",
                    "output_type": "stream",
                    "text": [
                        "0.1.12\n"
                    ]
                }
            ],
            "source": [
                "import fundaml\n",
                "print(fundaml.__version__)"
            ]
        },
        {
            "attachments": {},
            "cell_type": "markdown",
            "metadata": {},
            "source": [
                "## eda submodule"
            ]
        },
        {
            "cell_type": "code",
            "execution_count": 4,
            "metadata": {},
            "outputs": [
                {
                    "name": "stdout",
                    "output_type": "stream",
                    "text": [
                        "----------------------------------------\n",
                        " Shape: (3, 2)\n",
                        "----------------------------------------\n",
                        "\n",
                        "<class 'pandas.core.frame.DataFrame'>\n",
                        "RangeIndex: 3 entries, 0 to 2\n",
                        "Data columns (total 2 columns):\n",
                        " #   Column  Non-Null Count  Dtype\n",
                        "---  ------  --------------  -----\n",
                        " 0   a       3 non-null      int64\n",
                        " 1   b       3 non-null      int64\n",
                        "dtypes: int64(2)\n",
                        "memory usage: 176.0 bytes\n",
                        "----------------------------------------\n",
                        " Null:\n",
                        " a    0\n",
                        "b    0\n",
                        "dtype: int64\n",
                        "----------------------------------------\n",
                        " Describe:\n",
                        "          a    b\n",
                        "count  3.0  3.0\n",
                        "mean   2.0  5.0\n",
                        "std    1.0  1.0\n",
                        "min    1.0  4.0\n",
                        "25%    1.5  4.5\n",
                        "50%    2.0  5.0\n",
                        "75%    2.5  5.5\n",
                        "max    3.0  6.0\n",
                        "----------------------------------------\n",
                        " NA:\n",
                        " a    0\n",
                        "b    0\n",
                        "dtype: int64\n",
                        "----------------------------------------\n",
                        " Duplicate:\n",
                        " 0\n",
                        "----------------------------------------\n",
                        " Duplicated:\n",
                        " 0    False\n",
                        "1    False\n",
                        "2    False\n",
                        "dtype: bool\n"
                    ]
                }
            ],
            "source": [
                "from fundaml.eda import print_basic_eda\n",
                "import pandas as pd\n",
                "\n",
                "df = pd.DataFrame({\"a\": [1, 2, 3], \"b\": [4, 5, 6]})\n",
                "print_basic_eda(df)"
            ]
        }
    ],
    "metadata": {
        "kernelspec": {
            "display_name": "mltz_base",
            "language": "python",
            "name": "python3"
        },
        "language_info": {
            "codemirror_mode": {
                "name": "ipython",
                "version": 3
            },
            "file_extension": ".py",
            "mimetype": "text/x-python",
            "name": "python",
            "nbconvert_exporter": "python",
            "pygments_lexer": "ipython3",
            "version": "3.11.0"
        },
        "vscode": {
            "interpreter": {
                "hash": "7cfa4bdf23d59d966cb348cbf6b359c162aa4b758a5fdbf685462279e0c1f14f"
            }
        }
    },
    "nbformat": 4,
    "nbformat_minor": 4
}
