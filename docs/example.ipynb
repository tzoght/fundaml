{
    "cells": [
        {
            "attachments": {},
            "cell_type": "markdown",
            "metadata": {},
            "source": [
                "# Example usage\n",
                "\n",
                "To use `fundaml` in a project:"
            ]
        },
        {
            "cell_type": "code",
            "execution_count": 17,
            "metadata": {},
            "outputs": [
                {
                    "name": "stdout",
                    "output_type": "stream",
                    "text": [
                        "/bin/bash: ppip: command not found\n"
                    ]
                },
                {
                    "name": "stdout",
                    "output_type": "stream",
                    "text": [
                        "0.1.27\n"
                    ]
                }
            ],
            "source": [
                "!ppip install --upgrade fundaml\n",
                "import fundaml\n",
                "print(fundaml.__version__)"
            ]
        },
        {
            "attachments": {},
            "cell_type": "markdown",
            "metadata": {},
            "source": [
                "## eda submodule"
            ]
        },
        {
            "cell_type": "code",
            "execution_count": 18,
            "metadata": {},
            "outputs": [
                {
                    "name": "stdout",
                    "output_type": "stream",
                    "text": [
                        "----------------------------------------\n",
                        " Shape: (3, 2)\n",
                        "----------------------------------------\n",
                        "\n",
                        "<class 'pandas.core.frame.DataFrame'>\n",
                        "RangeIndex: 3 entries, 0 to 2\n",
                        "Data columns (total 2 columns):\n",
                        " #   Column  Non-Null Count  Dtype\n",
                        "---  ------  --------------  -----\n",
                        " 0   a       3 non-null      int64\n",
                        " 1   b       3 non-null      int64\n",
                        "dtypes: int64(2)\n",
                        "memory usage: 176.0 bytes\n",
                        "----------------------------------------\n",
                        " Null:\n",
                        " a    0\n",
                        "b    0\n",
                        "dtype: int64\n",
                        "----------------------------------------\n",
                        " Describe:\n",
                        "          a    b\n",
                        "count  3.0  3.0\n",
                        "mean   2.0  5.0\n",
                        "std    1.0  1.0\n",
                        "min    1.0  4.0\n",
                        "25%    1.5  4.5\n",
                        "50%    2.0  5.0\n",
                        "75%    2.5  5.5\n",
                        "max    3.0  6.0\n",
                        "----------------------------------------\n",
                        " NA:\n",
                        " a    0\n",
                        "b    0\n",
                        "dtype: int64\n",
                        "----------------------------------------\n",
                        " Duplicate:\n",
                        " 0\n",
                        "----------------------------------------\n",
                        " Duplicated:\n",
                        " 0    False\n",
                        "1    False\n",
                        "2    False\n",
                        "dtype: bool\n"
                    ]
                }
            ],
            "source": [
                "from fundaml.eda import print_basic_eda\n",
                "import pandas as pd\n",
                "\n",
                "df = pd.DataFrame({\"a\": [1, 2, 3], \"b\": [4, 5, 6]})\n",
                "print_basic_eda(df)"
            ]
        },
        {
            "attachments": {},
            "cell_type": "markdown",
            "metadata": {},
            "source": [
                "## Training a Neural Network Classifier"
            ]
        },
        {
            "cell_type": "code",
            "execution_count": 16,
            "metadata": {},
            "outputs": [
                {
                    "ename": "ModuleNotFoundError",
                    "evalue": "No module named 'fundaml.models'",
                    "output_type": "error",
                    "traceback": [
                        "\u001b[0;31m---------------------------------------------------------------------------\u001b[0m",
                        "\u001b[0;31mModuleNotFoundError\u001b[0m                       Traceback (most recent call last)",
                        "Cell \u001b[0;32mIn[16], line 1\u001b[0m\n\u001b[0;32m----> 1\u001b[0m \u001b[39mfrom\u001b[39;00m \u001b[39mfundaml\u001b[39;00m\u001b[39m.\u001b[39;00m\u001b[39mmodels\u001b[39;00m \u001b[39mimport\u001b[39;00m SampleNNClassifier\n\u001b[1;32m      2\u001b[0m \u001b[39mfrom\u001b[39;00m \u001b[39mfundaml\u001b[39;00m\u001b[39m.\u001b[39;00m\u001b[39mtrainers\u001b[39;00m \u001b[39mimport\u001b[39;00m NNTrainer, get_available_devices\n\u001b[1;32m      3\u001b[0m \u001b[39mfrom\u001b[39;00m \u001b[39mfundaml\u001b[39;00m\u001b[39m.\u001b[39;00m\u001b[39mscores\u001b[39;00m \u001b[39mimport\u001b[39;00m score_accuracy\n",
                        "\u001b[0;31mModuleNotFoundError\u001b[0m: No module named 'fundaml.models'"
                    ]
                }
            ],
            "source": [
                "from fundaml.models import SampleNNClassifier\n",
                "from fundaml.trainers import NNTrainer, get_available_devices\n",
                "from fundaml.scores import score_accuracy\n",
                "import unittest\n",
                "import torch\n",
                "from torch import Tensor\n",
                "import torch\n",
                "from torch import nn\n",
                "from torch.utils.data import DataLoader\n",
                "from torchvision import datasets\n",
                "from torchvision.transforms import ToTensor\n",
                "\n",
                "training_data = datasets.FashionMNIST(\n",
                "    root=\"data\",\n",
                "    train=True,\n",
                "    download=True,\n",
                "    transform=ToTensor()\n",
                ")\n",
                "\n",
                "test_data = datasets.FashionMNIST(\n",
                "    root=\"data\",\n",
                "    train=False,\n",
                "    download=True,\n",
                "    transform=ToTensor()\n",
                ")\n",
                "\n",
                "learning_rate = 1e-3\n",
                "batch_size = 64\n",
                "epochs = 1\n",
                "weight_decay = 0.01\n",
                "\n",
                "train_dataloader = DataLoader(training_data, batch_size=batch_size)\n",
                "test_dataloader = DataLoader(test_data, batch_size=batch_size)        \n",
                "\n",
                "model = SampleNNClassifier(short_name=\"Sample_NN_Classifier\")\n",
                "loss_fn = nn.CrossEntropyLoss()\n",
                "trainer = NNTrainer()\n",
                "\n",
                "# optimizer = torch.optim.SGD(model.parameters(), lr=learning_rate)\n",
                "optimizer = torch.optim.AdamW(model.parameters(), lr=learning_rate, weight_decay=weight_decay, betas=(0.9, 0.99), eps=1e-8)\n",
                "\n",
                "print(f\"Available devices on this machine: {get_available_devices()}\")\n",
                "trainer.with_model(model).with_optimizer(optimizer).with_loss_function(loss_fn)\n",
                "trainer.with_scoring_functions({'accuracy':score_accuracy}).with_device('cpu')\n",
                "# scores = trainer.train_loop(train_dataloader,update_every_n_batches=20,epochs=epochs)\n",
                "# scores = trainer.test_loop(test_dataloader,update_every_n_batches=2)\n",
                "# scores = trainer.train_test_loop(train_dataloader, test_dataloader,update_every_n_batches=100, epochs=5)\n",
                "# print(scores)"
            ]
        }
    ],
    "metadata": {
        "kernelspec": {
            "display_name": "mltz_base",
            "language": "python",
            "name": "python3"
        },
        "language_info": {
            "codemirror_mode": {
                "name": "ipython",
                "version": 3
            },
            "file_extension": ".py",
            "mimetype": "text/x-python",
            "name": "python",
            "nbconvert_exporter": "python",
            "pygments_lexer": "ipython3",
            "version": "3.10.12"
        },
        "vscode": {
            "interpreter": {
                "hash": "7cfa4bdf23d59d966cb348cbf6b359c162aa4b758a5fdbf685462279e0c1f14f"
            }
        }
    },
    "nbformat": 4,
    "nbformat_minor": 4
}
